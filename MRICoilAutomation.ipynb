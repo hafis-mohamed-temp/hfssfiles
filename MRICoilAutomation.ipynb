{
 "cells": [
  {
   "cell_type": "code",
   "execution_count": 251,
   "id": "ed8c4322",
   "metadata": {},
   "outputs": [],
   "source": [
    "rung_num = int((input(\"Number of Rungs:\")))\n",
    "bc_n = rung_num\n",
    "gamma = 1.76e7  # Gyromagnetic ratio in rad/s/T\n",
    "B = float(input(\"Enter the magnetic field strength (in Tesla): \"))     # input for magnetic field B in Tesla\n",
    "\n",
    "# Calculate the frequency in Hz\n",
    "frequency_hz = gamma * B\n",
    "\n",
    "# Convert frequency to MHz\n",
    "frequency_mhz = f\"{frequency_hz} / 1e6 Mhz\"\n",
    "\n"
   ]
  },
  {
   "cell_type": "code",
   "execution_count": 252,
   "id": "d4c6c6e4",
   "metadata": {},
   "outputs": [
    {
     "name": "stdout",
     "output_type": "stream",
     "text": [
      "PyAEDT INFO: Python version 3.11.9 (tags/v3.11.9:de54cf5, Apr  2 2024, 10:12:12) [MSC v.1938 64 bit (AMD64)].\n",
      "PyAEDT INFO: PyAEDT version 0.17.5.\n",
      "PyAEDT INFO: Initializing new Desktop session.\n",
      "PyAEDT INFO: Log on console is enabled.\n",
      "PyAEDT INFO: Log on file C:\\Users\\hafis\\AppData\\Local\\Temp\\pyaedt_hafis_4342d923-5b02-47dd-83ff-2c6de39e3fba.log is enabled.\n",
      "PyAEDT INFO: Log on AEDT is enabled.\n",
      "PyAEDT INFO: Debug logger is disabled. PyAEDT methods will not be logged.\n",
      "PyAEDT WARNING: Only AEDT Student Version found on the system. Using Student Version.\n",
      "PyAEDT INFO: Launching PyAEDT with gRPC plugin.\n",
      "PyAEDT INFO: New AEDT session is starting on gRPC port 57535.\n",
      "PyAEDT INFO: Electronics Desktop started on gRPC port: 57535 after 11.206382036209106 seconds.\n",
      "PyAEDT INFO: AEDT installation Path D:\\Ansys Student\\v242\\Win64\n",
      "PyAEDT INFO: Ansoft.ElectronicsDesktop.2024.2 Student version started with process ID 34952.\n",
      "PyAEDT WARNING: AEDT started as Student version, but requested as Regular version.\n",
      "PyAEDT INFO: Project Project39 has been created.\n",
      "PyAEDT INFO: No design is present. Inserting a new design.\n",
      "PyAEDT INFO: Added design 'HFSS_37G' of type HFSS.\n",
      "PyAEDT INFO: Aedt Objects correctly read\n",
      "PyAEDT INFO: Modeler class has been initialized! Elapsed time: 0m 0sec\n",
      "HFSS Initialized\n"
     ]
    }
   ],
   "source": [
    "from pyaedt import Hfss\n",
    "\n",
    "# Launch HFSS Desktop in GUI mode\n",
    "hfss = Hfss(\n",
    "    non_graphical=False,  \n",
    "    new_desktop=True,     \n",
    "    close_on_exit=False   \n",
    ")\n",
    "hfss.modeler.model_units = \"cm\"  # Set model units\n",
    "hfss.solution_type = \"Terminal\"\n",
    "print(\"HFSS Initialized\")\n"
   ]
  },
  {
   "cell_type": "code",
   "execution_count": 253,
   "id": "0cbd2c8e",
   "metadata": {},
   "outputs": [
    {
     "name": "stdout",
     "output_type": "stream",
     "text": [
      "Base variables added.\n"
     ]
    }
   ],
   "source": [
    "# define base design variables\n",
    "hfss[\"bc_rung_t\"] = \"2cm\"    # Thickness of rung\n",
    "hfss[\"bc_rung_l\"] = \"65cm\"   # Full length of rung\n",
    "hfss[\"bc_port_h\"] = \"1cm\"    # Port height\n",
    "hfss[\"bc_port_w\"] = \"2cm\"    # Port width\n",
    "hfss[\"bc_r\"] = \"32.5cm\"      # Coil radius\n",
    "hfss[\"bc_depth\"] = \"1.4mil\"  # Sheet thickness\n",
    "hfss[\"bc_n\"] = bc_n           # Number of rungs\n",
    "\n",
    "print(\"Base variables added.\")\n"
   ]
  },
  {
   "cell_type": "code",
   "execution_count": 254,
   "id": "d69bd661",
   "metadata": {},
   "outputs": [
    {
     "name": "stdout",
     "output_type": "stream",
     "text": [
      "Dependent variables added.\n"
     ]
    }
   ],
   "source": [
    "# define dependent parametric variables\n",
    "hfss[\"bc_theta\"] = \"360deg/bc_n\"\n",
    "hfss[\"bc_angle_port\"] = \"acos((bc_port_h^2 - 2*bc_r^2)/(-2*bc_r^2))\"\n",
    "hfss[\"bc_angle_rung\"] = \"bc_theta - bc_angle_port\"\n",
    "hfss[\"bc_r_inner\"] = \"bc_r*cos(bc_angle_rung/2)\"\n",
    "hfss[\"bc_rung_w\"] = \"2*bc_r_inner*tan(bc_angle_rung/2)\"\n",
    "\n",
    "print(\"Dependent variables added.\")\n"
   ]
  },
  {
   "cell_type": "code",
   "execution_count": 255,
   "id": "8e61c93e",
   "metadata": {},
   "outputs": [
    {
     "name": "stdout",
     "output_type": "stream",
     "text": [
      "PyAEDT INFO: Open Region correctly created.\n",
      "PyAEDT INFO: Project Project39 Saved correctly\n",
      "PyAEDT INFO: Materials class has been initialized! Elapsed time: 0m 0sec\n",
      "BcRungTop created.\n",
      "BcBusTop created.\n",
      "PyAEDT INFO: Union of 2 objects has been executed.\n",
      "✅ T-structure created successfully! Check in AEDT.\n",
      "Assigning Perfect E boundary to T-structure...\n",
      "PyAEDT INFO: Parsing design objects. This operation can take time\n",
      "PyAEDT INFO: Refreshing bodies from Object Info\n",
      "PyAEDT INFO: Bodies Info Refreshed Elapsed time: 0m 0sec\n",
      "PyAEDT INFO: 3D Modeler objects parsed. Elapsed time: 0m 0sec\n",
      "PyAEDT INFO: Boundary Perfect E PerfectE_BcRungTop has been created.\n",
      "✅ Perfect E boundary assigned.\n"
     ]
    }
   ],
   "source": [
    "# create open range based on operation frequency \n",
    "hfss.create_open_region(frequency=f\"{frequency_mhz}\", boundary='Radiation', apply_infinite_ground=False, gp_axis='-z')\n",
    "\n",
    "# create the first rectangle: vertical rung part\n",
    "rung_rect = hfss.modeler.create_rectangle(\n",
    "    origin=[\"-bc_rung_t/2\", 0, \"bc_port_h/2\"],\n",
    "    sizes=[\"(bc_rung_l/2 - bc_port_h/2)\", \"bc_rung_t\"],\n",
    "    orientation=\"XZ\",\n",
    "    name=\"BcRungTop\",\n",
    "    material=\"copper\"\n",
    ")\n",
    "print(\"BcRungTop created.\")\n",
    "\n",
    "# create the second rectangle: horizontal bus bar at top\n",
    "bus_rect = hfss.modeler.create_rectangle(\n",
    "    origin=[\"-bc_rung_w/2\", 0, \"bc_rung_l/2\"],\n",
    "    sizes=[\"-bc_rung_t\", \"bc_rung_w\"],\n",
    "    orientation=\"XZ\",\n",
    "    name=\"BcBusTop\",\n",
    "    material=\"copper\"\n",
    ")\n",
    "print(\"BcBusTop created.\")\n",
    "\n",
    "# unite the two rectangles and capture the new object that is created\n",
    "t_structure = hfss.modeler.unite([rung_rect, bus_rect])\n",
    "print(\"✅ T-structure created successfully! Check in AEDT.\")\n",
    "\n",
    "# assign Perfect E boundary to the new united object before duplicating\n",
    "print(\"Assigning Perfect E boundary to T-structure...\")\n",
    "hfss.assign_perfect_e(t_structure, \"PE_T_Structure\")\n",
    "print(\"✅ Perfect E boundary assigned.\")\n"
   ]
  },
  {
   "cell_type": "code",
   "execution_count": 256,
   "id": "24f09825",
   "metadata": {},
   "outputs": [
    {
     "data": {
      "text/plain": [
       "['BcRungTop_1']"
      ]
     },
     "execution_count": 256,
     "metadata": {},
     "output_type": "execute_result"
    }
   ],
   "source": [
    "hfss.modeler.duplicate_and_mirror(\n",
    "    rung_rect,                 # assignment\n",
    "    origin=[0, 0, 0],          # mirror base point\n",
    "    vector=[0, 0, 1],          # normal vector along Z \n",
    "    duplicate_assignment=True  \n",
    ")\n"
   ]
  },
  {
   "cell_type": "code",
   "execution_count": 257,
   "id": "32f7efed",
   "metadata": {},
   "outputs": [
    {
     "data": {
      "text/plain": [
       "True"
      ]
     },
     "execution_count": 257,
     "metadata": {},
     "output_type": "execute_result"
    }
   ],
   "source": [
    "\n",
    "duplicates = [\"BcRungTop\", \"BcRungTop_1\"]  \n",
    "hfss.modeler.move(duplicates, [\"0mm\", \"bc_r_inner\", \"0mm\"])\n"
   ]
  },
  {
   "cell_type": "code",
   "execution_count": 258,
   "id": "98c7006d",
   "metadata": {},
   "outputs": [],
   "source": [
    "bc_n_value = int(float(hfss[\"bc_n\"].split()[0]))  # extract 8 from bc_n\n",
    "\n",
    "# compute angle per step\n",
    "angle_per_clone = 360 / bc_n_value\n"
   ]
  },
  {
   "cell_type": "code",
   "execution_count": 259,
   "id": "857d6d27",
   "metadata": {},
   "outputs": [
    {
     "name": "stdout",
     "output_type": "stream",
     "text": [
      "✅ Created 8 positions for rungs around Z-axis.\n"
     ]
    }
   ],
   "source": [
    "status, new_objects = hfss.modeler.duplicate_around_axis(\n",
    "    assignment=[\"BcRungTop\", \"BcRungTop_1\"],  # original pair\n",
    "    axis=\"Z\",                                # Rotate about Z-axis\n",
    "    angle=angle_per_clone,                   # Numeric angle per step\n",
    "    clones=bc_n_value, \n",
    "    create_new_objects=True,\n",
    "    duplicate_assignment=True\n",
    ")\n",
    "\n",
    "print(f\"✅ Created {bc_n_value} positions for rungs around Z-axis.\")\n"
   ]
  },
  {
   "cell_type": "code",
   "execution_count": 260,
   "id": "550e903e",
   "metadata": {},
   "outputs": [
    {
     "name": "stdout",
     "output_type": "stream",
     "text": [
      "✅ Polyline for BcCapTop created.\n",
      "✅ Sweep complete. Created BcCapTop.\n",
      "Adding lumped port to BcCapTop...\n",
      "PyAEDT INFO: Boundary AutoIdentify CapPort has been created.\n",
      "PyAEDT ERROR: **************************************************************\n",
      "PyAEDT ERROR:   File \"<frozen runpy>\", line 198, in _run_module_as_main\n",
      "PyAEDT ERROR:   File \"<frozen runpy>\", line 88, in _run_code\n",
      "PyAEDT ERROR:   File \"C:\\Program Files\\WindowsApps\\PythonSoftwareFoundation.Python.3.11_3.11.2544.0_x64__qbz5n2kfra8p0\\Lib\\asyncio\\base_events.py\", line 608, in run_forever\n",
      "PyAEDT ERROR:     self._run_once()\n",
      "PyAEDT ERROR:   File \"C:\\Program Files\\WindowsApps\\PythonSoftwareFoundation.Python.3.11_3.11.2544.0_x64__qbz5n2kfra8p0\\Lib\\asyncio\\base_events.py\", line 1936, in _run_once\n",
      "PyAEDT ERROR:     handle._run()\n",
      "PyAEDT ERROR:   File \"C:\\Program Files\\WindowsApps\\PythonSoftwareFoundation.Python.3.11_3.11.2544.0_x64__qbz5n2kfra8p0\\Lib\\asyncio\\events.py\", line 84, in _run\n",
      "PyAEDT ERROR:     self._context.run(self._callback, *self._args)\n",
      "PyAEDT ERROR:   File \"C:\\Users\\hafis\\AppData\\Local\\Temp\\ipykernel_25924\\4068937522.py\", line 30, in <module>\n",
      "PyAEDT ERROR:     hfss.lumped_port(\n",
      "PyAEDT ERROR: AEDT API Error on update\n",
      "PyAEDT ERROR: Last Electronics Desktop Message - [error] script macro error: port 'capport': please delete the excess terminal(s) on this lumped port. (01:06:08 pm  jul 25, 2025)\n",
      "\n",
      "PyAEDT ERROR: **************************************************************\n",
      "✅ Lumped port 'CapPort' created on BcCapTop.\n",
      "✅ Created BcCapBottom: BcCapTop_1\n",
      "✅ Duplicated both caps 8 times around Z-axis.\n"
     ]
    }
   ],
   "source": [
    "# 1. Create Polyline\n",
    "polyline_points = [\n",
    "    [\"bc_rung_w/2\", \"bc_r_inner\", \"bc_rung_l/2\"],\n",
    "    [\"bc_r*sin(bc_angle_rung/2+bc_angle_port)\",\n",
    "     \"bc_r*cos(bc_angle_rung/2+bc_angle_port)\",\n",
    "     \"bc_rung_l/2\"]\n",
    "]\n",
    "cap_polyline = hfss.modeler.create_polyline(points=polyline_points, cover_surface=False, name=\"CapTopPath\")\n",
    "print(\"✅ Polyline for BcCapTop created.\")\n",
    "\n",
    "# 2. Sweep\n",
    "cap_top = hfss.modeler.sweep_along_vector(\n",
    "    assignment=cap_polyline,\n",
    "    sweep_vector=[\"0mm\", \"0mm\", \"-bc_port_w\"],\n",
    "    draft_angle=0,\n",
    "    draft_type=\"Round\"\n",
    ")\n",
    "cap_top.name = \"BcCapTop\"\n",
    "print(\"✅ Sweep complete. Created BcCapTop.\")\n",
    "\n",
    "# ------------------------------------------------------------------\n",
    "# Add Lumped Port to BcCapTop before duplicating\n",
    "# ------------------------------------------------------------------\n",
    "print(\"Adding lumped port to BcCapTop...\")\n",
    "# Define the 3D start and stop points for the integration line\n",
    "line_start = [polyline_points[0][0], polyline_points[0][1], f\"({polyline_points[0][2]}) - bc_port_w/2\"]\n",
    "line_stop = [polyline_points[1][0], polyline_points[1][1], f\"({polyline_points[1][2]}) - bc_port_w/2\"]\n",
    "\n",
    "# CORRECTED: Use the 'integration_line' argument with a list of two points\n",
    "hfss.lumped_port(\n",
    "    assignment=cap_top.name,\n",
    "    integration_line=[line_start, line_stop],\n",
    "    name=\"CapPort\"  # The 'name' argument is valid according to the docstring\n",
    ")\n",
    "print(\"✅ Lumped port 'CapPort' created on BcCapTop.\")\n",
    "# ------------------------------------------------------------------\n",
    "\n",
    "\n",
    "# 3. Mirror to create BcCapBottom\n",
    "before_objs = set(hfss.modeler.object_names)\n",
    "hfss.modeler.duplicate_and_mirror(\n",
    "    assignment=cap_top,\n",
    "    origin=[0, 0, 0],\n",
    "    vector=[0, 0, -1],  # Normal vector\n",
    "    duplicate_assignment=True\n",
    ")\n",
    "after_objs = set(hfss.modeler.object_names)\n",
    "new_obj_name = list(after_objs - before_objs)[0]\n",
    "hfss.modeler[new_obj_name].name = \"BcCapBottom\"\n",
    "print(f\"✅ Created BcCapBottom: {new_obj_name}\")\n",
    "\n",
    "# 4. Duplicate both around Z-axis\n",
    "bc_n_value = int(float(hfss[\"bc_n\"].split()[0]))\n",
    "angle_per_clone = 360 / bc_n_value\n",
    "hfss.modeler.duplicate_around_axis(\n",
    "    assignment=[\"BcCapTop\", \"BcCapBottom\"],\n",
    "    axis=\"Z\",\n",
    "    angle=angle_per_clone,\n",
    "    clones=bc_n_value,\n",
    "    create_new_objects=True,\n",
    "    duplicate_assignment=True\n",
    ")\n",
    "print(f\"✅ Duplicated both caps {bc_n_value} times around Z-axis.\")"
   ]
  },
  {
   "cell_type": "code",
   "execution_count": 261,
   "id": "f01c3016",
   "metadata": {},
   "outputs": [
    {
     "name": "stdout",
     "output_type": "stream",
     "text": [
      "✅ Created BcPort rectangle.\n",
      "Adding lumped port to BcPort...\n",
      "PyAEDT INFO: Boundary AutoIdentify RungPort has been created.\n",
      "PyAEDT ERROR: **************************************************************\n",
      "PyAEDT ERROR:   File \"<frozen runpy>\", line 198, in _run_module_as_main\n",
      "PyAEDT ERROR:   File \"<frozen runpy>\", line 88, in _run_code\n",
      "PyAEDT ERROR:   File \"C:\\Program Files\\WindowsApps\\PythonSoftwareFoundation.Python.3.11_3.11.2544.0_x64__qbz5n2kfra8p0\\Lib\\asyncio\\base_events.py\", line 608, in run_forever\n",
      "PyAEDT ERROR:     self._run_once()\n",
      "PyAEDT ERROR:   File \"C:\\Program Files\\WindowsApps\\PythonSoftwareFoundation.Python.3.11_3.11.2544.0_x64__qbz5n2kfra8p0\\Lib\\asyncio\\base_events.py\", line 1936, in _run_once\n",
      "PyAEDT ERROR:     handle._run()\n",
      "PyAEDT ERROR:   File \"C:\\Program Files\\WindowsApps\\PythonSoftwareFoundation.Python.3.11_3.11.2544.0_x64__qbz5n2kfra8p0\\Lib\\asyncio\\events.py\", line 84, in _run\n",
      "PyAEDT ERROR:     self._context.run(self._callback, *self._args)\n",
      "PyAEDT ERROR:   File \"C:\\Users\\hafis\\AppData\\Local\\Temp\\ipykernel_25924\\3691891032.py\", line 22, in <module>\n",
      "PyAEDT ERROR:     hfss.lumped_port(\n",
      "PyAEDT ERROR: AEDT API Error on update\n",
      "PyAEDT ERROR: Last Electronics Desktop Message - [error] script macro error: port 'rungport': please delete the excess terminal(s) on this lumped port. (01:06:11 pm  jul 25, 2025)\n",
      "\n",
      "PyAEDT ERROR: **************************************************************\n",
      "✅ Lumped port 'RungPort' created on BcPort.\n",
      "✅ BcPort duplicated around Z-axis using bc_theta.\n"
     ]
    }
   ],
   "source": [
    "# -----------------------------\n",
    "# 1. Create BcPort Rectangle\n",
    "# -----------------------------\n",
    "port_rect = hfss.modeler.create_rectangle(\n",
    "    origin=[\"-bc_port_w/2\", \"bc_r_inner\", \"-bc_port_h/2\"],  # Parametric origin\n",
    "    sizes=[\"bc_port_h\", \"bc_port_w\" ],  # Width and height\n",
    "    orientation=\"XZ\",                  # Axis = Y → XZ plane\n",
    "    name=\"BcPort\",\n",
    "    material=\"copper\"\n",
    ")\n",
    "print(\"✅ Created BcPort rectangle.\")\n",
    "\n",
    "# ------------------------------------------------------------------\n",
    "# Add Lumped Port to BcPort before duplicating\n",
    "# ------------------------------------------------------------------\n",
    "print(\"Adding lumped port to BcPort...\")\n",
    "# Define the start and stop points for the vertical integration line\n",
    "line_start = [\"0cm\", \"bc_r_inner\", \"-bc_port_h/2\"] # Bottom-center\n",
    "line_stop = [\"0cm\", \"bc_r_inner\", \"bc_port_h/2\"]  # Top-center\n",
    "\n",
    "# CORRECTED: Use the 'integration_line' argument with a list of two points\n",
    "hfss.lumped_port(\n",
    "    assignment=port_rect,\n",
    "    integration_line=[line_start, line_stop],\n",
    "    name=\"RungPort\",\n",
    ")\n",
    "print(\"✅ Lumped port 'RungPort' created on BcPort.\")\n",
    "# ------------------------------------------------------------------\n",
    "\n",
    "\n",
    "# -----------------------------\n",
    "# 2. Duplicate Around Z-axis\n",
    "# -----------------------------\n",
    "# Use parametric variable bc_theta for angle\n",
    "hfss.modeler.duplicate_around_axis(\n",
    "    assignment=port_rect,\n",
    "    axis=\"Z\",\n",
    "    angle=\"bc_theta\",             # Use parametric angle (360deg/bc_n)\n",
    "    clones=hfss[\"bc_n\"],          # Number of duplicates\n",
    "    create_new_objects=True,\n",
    "    duplicate_assignment=True\n",
    ")\n",
    "print(\"✅ BcPort duplicated around Z-axis using bc_theta.\")"
   ]
  }
 ],
 "metadata": {
  "kernelspec": {
   "display_name": "Python 3",
   "language": "python",
   "name": "python3"
  },
  "language_info": {
   "codemirror_mode": {
    "name": "ipython",
    "version": 3
   },
   "file_extension": ".py",
   "mimetype": "text/x-python",
   "name": "python",
   "nbconvert_exporter": "python",
   "pygments_lexer": "ipython3",
   "version": "3.11.9"
  }
 },
 "nbformat": 4,
 "nbformat_minor": 5
}
